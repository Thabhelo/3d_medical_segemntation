{
 "cells": [
  {
   "cell_type": "markdown",
   "metadata": {},
   "source": [
    "# Colab Setup and Data EDA\n",
    "\n",
    "Mount Google Drive, set up the environment, and perform quick EDA for datasets in `My Drive/datasets`."
   ]
  },
  {
   "cell_type": "code",
   "execution_count": null,
   "metadata": {},
   "outputs": [],
   "source": [
    "# If running in Colab, mount Drive\n",
    "try:\n",
    "    from google.colab import drive  # type: ignore\n",
    "    drive.mount('/content/drive')\n",
    "    IN_COLAB = True\n",
    "except Exception:\n",
    "    IN_COLAB = False\n",
    "print('IN_COLAB =', IN_COLAB)"
   ]
  },
  {
   "cell_type": "code",
   "execution_count": null,
   "metadata": {},
   "outputs": [],
   "source": [
    "# Install deps if needed (Colab)\n",
    "if 'google.colab' in str(get_ipython()):\n",
    "    !pip -q install -U pip\n",
    "    !pip -q install -r /content/drive/MyDrive/3d_medical_segmentation/requirements.txt\n",
    "print('Dependencies prepared.')"
   ]
  },
  {
   "cell_type": "code",
   "execution_count": null,
   "metadata": {},
   "outputs": [],
   "source": [
    "# Set paths\n",
    "from pathlib import Path\n",
    "drive_root = Path('/content/drive/MyDrive') if IN_COLAB else Path.home() / 'drive'\n",
    "data_root = drive_root / 'datasets'\n",
    "project_root = drive_root / '3d_medical_segmentation'\n",
    "print('data_root:', data_root)\n",
    "print('project_root:', project_root)"
   ]
  },
  {
   "cell_type": "code",
   "execution_count": null,
   "metadata": {},
   "outputs": [],
   "source": [
    "# Quick EDA: list datasets and sample files\n",
    "import os\n",
    "for ds in ['BraTS', 'MSD_Liver', 'TotalSegmentator']:\n",
    "    p = data_root / ds\n",
    "    print(f'\\nDataset: {ds} ->', p)\n",
    "    if p.exists():\n",
    "        for root, dirs, files in os.walk(p):\n",
    "            print(' ', root)\n",
    "            for f in files[:5]:\n",
    "                print('   -', f)\n",
    "            break\n",
    "    else:\n",
    "        print('  MISSING - Please sync to Google Drive.')\n"
   ]
  }
 ],
 "metadata": {
  "kernelspec": {
   "display_name": "Python 3",
   "language": "python",
   "name": "python3"
  },
  "language_info": {
   "name": "python",
   "version": "3.10"
  }
 },
 "nbformat": 4,
 "nbformat_minor": 5
}
