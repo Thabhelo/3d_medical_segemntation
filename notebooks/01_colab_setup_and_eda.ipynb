{
 "cells": [
  {
   "cell_type": "markdown",
   "metadata": {},
   "source": [
    "# Colab Setup and Data EDA\n",
    "\n",
    "Mount Google Drive, set up the environment, and perform quick EDA for datasets in `My Drive/datasets`."
   ]
  },
  {
   "cell_type": "code",
   "execution_count": null,
   "metadata": {},
   "outputs": [],
   "source": [
    "# If running in Colab, mount Drive\n",
    "try:\n",
    "    from google.colab import drive  # type: ignore\n",
    "    drive.mount('/content/drive')\n",
    "    IN_COLAB = True\n",
    "except Exception:\n",
    "    IN_COLAB = False\n",
    "print('IN_COLAB =', IN_COLAB)"
   ]
  },
  {
   "cell_type": "code",
   "execution_count": null,
   "metadata": {},
   "outputs": [],
   "source": [
    "# Install deps if needed (Colab)\n",
    "if 'google.colab' in str(get_ipython()):\n",
    "    repo_url = 'https://github.com/Thabhelo/3d_medical_segemntation.git'\n",
    "    drive_root = '/content/drive/MyDrive'\n",
    "    repo_dir = f'{drive_root}/3d_medical_segmentation'\n",
    "    import os, sys, subprocess\n",
    "    if not os.path.exists(repo_dir):\n",
    "        subprocess.run(['git', 'clone', repo_url, repo_dir], check=True)\n",
    "    if repo_dir not in sys.path:\n",
    "        sys.path.append(repo_dir)\n",
    "    subprocess.run(['python', '-m', 'pip', 'install', '-q', '-U', 'pip'], check=True)\n",
    "    subprocess.run(['python', '-m', 'pip', 'install', '-q', '-r', f'{repo_dir}/requirements.txt'], check=True)\n",
    "print('Dependencies prepared.')"
   ]
  },
  {
   "cell_type": "code",
   "execution_count": null,
   "metadata": {},
   "outputs": [],
   "source": [
    "# Set paths\n",
    "from pathlib import Path\n",
    "import sys\n",
    "sys.path.append('/content/drive/MyDrive/3d_medical_segmentation') if IN_COLAB else None\n",
    "from src.utils.io import get_drive_root, get_datasets_root, get_project_root\n",
    "\n",
    "drive_root = get_drive_root()\n",
    "data_root = get_datasets_root()\n",
    "project_root = get_project_root()\n",
    "print('data_root:', data_root)\n",
    "print('project_root:', project_root)"
   ]
  },
  {
   "cell_type": "code",
   "execution_count": null,
   "metadata": {},
   "outputs": [],
   "source": [
    "# Quick EDA: list datasets and sample files\n",
    "import os\n",
    "name_synonyms = {\n",
    "    'BraTS': ['BraTS', 'brats', 'BRATS', 'BraTS2021'],\n",
    "    'MSD': ['MSD', 'MSD_Liver', 'Task03_Liver'],\n",
    "    'TotalSegmentator': ['TotalSegmentator', 'TotalSegmentor', 'TotalSeg', 'TotalSegmantator', 'totalseg']\n",
    "}\n",
    "for canonical, options in name_synonyms.items():\n",
    "    p = None\n",
    "    for opt in options:\n",
    "        candidate = data_root / opt\n",
    "        if candidate.exists():\n",
    "            p = candidate\n",
    "            break\n",
    "    print(f\"\\nDataset: {canonical} ->\", p if p else (data_root / options[0]))\n",
    "    if p and p.exists():\n",
    "        for root, dirs, files in os.walk(p):\n",
    "            print(' ', root)\n",
    "            for f in files[:5]:\n",
    "                print('   -', f)\n",
    "            break\n",
    "    else:\n",
    "        print('  MISSING - Please sync to Google Drive.')\n"
   ]
  }
 ],
 "metadata": {
  "kernelspec": {
   "display_name": "Python 3",
   "language": "python",
   "name": "python3"
  },
  "language_info": {
   "name": "python",
   "version": "3.10"
  }
 },
 "nbformat": 4,
 "nbformat_minor": 5
}
