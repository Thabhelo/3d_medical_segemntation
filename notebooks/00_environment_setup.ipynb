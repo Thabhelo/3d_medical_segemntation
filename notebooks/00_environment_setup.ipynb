{
 "cells": [
  {
   "cell_type": "markdown",
   "metadata": {},
   "source": [
    "# Unified Experiments Runner (Colab-ready)\n",
    "\n",
    "This notebook sets up the environment (Colab or local) and runs all experiment combinations across datasets and architectures.\n",
    "\n",
    "- Datasets: BraTS, MSD Liver, TotalSegmentator\n",
    "- Architectures: UNet, UNETR, SegResNet\n",
    "\n",
    "If running on Colab, it mounts Google Drive and installs requirements. Use the runner cell to execute all combinations or adjust selections.\n"
   ]
  },
  {
   "cell_type": "code",
   "execution_count": null,
   "metadata": {},
   "outputs": [],
   "source": [
    "# Detect Colab and optionally mount Google Drive\n",
    "IN_COLAB = False\n",
    "try:\n",
    "    import google.colab  # type: ignore\n",
    "    IN_COLAB = True\n",
    "except Exception:\n",
    "    IN_COLAB = False\n",
    "\n",
    "print(f\"Running in Colab: {IN_COLAB}\")\n",
    "\n",
    "if IN_COLAB:\n",
    "    from google.colab import drive  # type: ignore\n",
    "    drive.mount('/content/drive')\n",
    "\n",
    "# Ensure correct working directory when cloned in Colab\n",
    "import os\n",
    "import sys\n",
    "from pathlib import Path\n",
    "import subprocess\n",
    "\n",
    "if IN_COLAB:\n",
    "    # Support current repo name (typo) and future corrected name\n",
    "    candidates = [\n",
    "        (\n",
    "            Path('/content/3d_medical_segemntation'),\n",
    "            'https://github.com/thabhelo/3d_medical_segemntation.git'\n",
    "        ),\n",
    "        (\n",
    "            Path('/content/3d_medical_segmentation'),\n",
    "            'https://github.com/thabhelo/3d_medical_segmentation.git'\n",
    "        ),\n",
    "    ]\n",
    "\n",
    "    # Use existing clone if present; otherwise try cloning candidates in order\n",
    "    repo_dir = None\n",
    "    for path, url in candidates:\n",
    "        if path.exists():\n",
    "            repo_dir = path\n",
    "            break\n",
    "    if repo_dir is None:\n",
    "        for path, url in candidates:\n",
    "            try:\n",
    "                subprocess.run(['git','clone','-q', url, str(path)], check=True)\n",
    "                repo_dir = path\n",
    "                break\n",
    "            except Exception:\n",
    "                continue\n",
    "    if repo_dir is None:\n",
    "        raise RuntimeError('Failed to clone repository using known names.')\n",
    "\n",
    "    os.chdir(repo_dir)\n",
    "\n",
    "sys.path.insert(0, str(Path.cwd() / 'src'))\n",
    "print(f\"CWD: {Path.cwd()}\")\n"
   ]
  },
  {
   "cell_type": "code",
   "execution_count": null,
   "metadata": {},
   "outputs": [],
   "source": [
    "# Optionally install dependencies (Colab)\n",
    "if IN_COLAB:\n",
    "    import subprocess\n",
    "    # Install minimal pinned deps; setup.sh is heavy, so install selectively for speed\n",
    "    cmds = [\n",
    "        ['pip','install','-q','torch==2.3.0','torchvision==0.18.0','--index-url','https://download.pytorch.org/whl/cu121'],\n",
    "        ['pip','install','-q','monai[all]==1.3.0','numpy==1.26.4','scipy>=1.12,<1.14'],\n",
    "        ['pip','install','-q','scikit-learn>=1.3.0','pandas>=2.0.0'],\n",
    "        ['pip','install','-q','matplotlib>=3.7.0','seaborn>=0.12.0','nibabel','SimpleITK','PyYAML','tqdm','tensorboard']\n",
    "    ]\n",
    "    for c in cmds:\n",
    "        print('Running:', ' '.join(c))\n",
    "        subprocess.run(c, check=True)\n",
    "    print('Dependencies installed.')\n",
    "else:\n",
    "    print('Local environment detected; ensure requirements are installed.')\n"
   ]
  },
  {
   "cell_type": "code",
   "execution_count": null,
   "metadata": {},
   "outputs": [],
   "source": [
    "# Runner: iterate over datasets x architectures\n",
    "from pathlib import Path\n",
    "import itertools\n",
    "import subprocess\n",
    "import sys\n",
    "\n",
    "# Configurable selections\n",
    "DATASETS = ['brats', 'msd_liver', 'totalsegmentator']\n",
    "ARCHITECTURES = ['unet', 'unetr', 'segresnet']\n",
    "MAX_EPOCHS = 2\n",
    "BATCH_SIZE = 2\n",
    "NUM_WORKERS = 2\n",
    "OUTPUT_BASE = Path('results/colab_runs')\n",
    "\n",
    "OUTPUT_BASE.mkdir(parents=True, exist_ok=True)\n",
    "\n",
    "print('Dataset root auto-detected by train_model.py based on environment.')\n",
    "\n",
    "runs = list(itertools.product(DATASETS, ARCHITECTURES))\n",
    "print(f'Total runs: {len(runs)}')\n",
    "\n",
    "for ds, arch in runs:\n",
    "    out_dir = OUTPUT_BASE / f'{ds}_{arch}'\n",
    "    cmd = [\n",
    "        sys.executable,\n",
    "        'scripts/train_model.py',\n",
    "        '--dataset', ds,\n",
    "        '--architecture', arch,\n",
    "        '--max_epochs', str(MAX_EPOCHS),\n",
    "        '--batch_size', str(BATCH_SIZE),\n",
    "        '--num_workers', str(NUM_WORKERS),\n",
    "        '--output_dir', str(out_dir)\n",
    "    ]\n",
    "    print('\\n=== Running:', ' '.join(cmd))\n",
    "    subprocess.run(cmd, check=False)\n",
    "\n",
    "print('\\nAll runs completed.')\n"
   ]
  },
  {
   "cell_type": "markdown",
   "metadata": {},
   "source": [
    "<!-- Removed duplicated per-unified-runner content. The unified runner above replaces these sections. -->"
   ]
  },
  {
   "cell_type": "code",
   "execution_count": null,
   "metadata": {},
   "outputs": [],
   "source": []
  },
  {
   "cell_type": "markdown",
   "metadata": {},
   "source": []
  },
  {
   "cell_type": "code",
   "execution_count": null,
   "metadata": {},
   "outputs": [],
   "source": []
  },
  {
   "cell_type": "markdown",
   "metadata": {},
   "source": []
  },
  {
   "cell_type": "code",
   "execution_count": null,
   "metadata": {},
   "outputs": [],
   "source": []
  },
  {
   "cell_type": "markdown",
   "metadata": {},
   "source": []
  },
  {
   "cell_type": "code",
   "execution_count": null,
   "metadata": {},
   "outputs": [],
   "source": []
  }
 ],
 "metadata": {
  "kernelspec": {
   "display_name": "Python 3",
   "language": "python",
   "name": "python3"
  },
  "language_info": {
   "codemirror_mode": {
    "name": "ipython",
    "version": 3
   },
   "file_extension": ".py",
   "mimetype": "text/x-python",
   "name": "python",
   "nbconvert_exporter": "python",
   "pygments_lexer": "ipython3",
   "version": "3.8.10"
  }
 },
 "nbformat": 4,
 "nbformat_minor": 4
}
