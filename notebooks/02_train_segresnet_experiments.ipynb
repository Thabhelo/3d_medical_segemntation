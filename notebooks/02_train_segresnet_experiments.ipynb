{
 "cells": [
  {
   "cell_type": "markdown",
   "metadata": {},
   "source": [
    "# SegResNet Training Experiments\n",
    "\n",
    "This notebook trains the remaining SegResNet experiments:\n",
    "1. SegResNet + BraTS\n",
    "2. SegResNet + MSD_Liver\n",
    "\n",
    "**Requirements:**\n",
    "- Google Colab with GPU runtime\n",
    "- Datasets in Google Drive at `/content/drive/MyDrive/datasets/`\n",
    "- Project cloned from GitHub"
   ]
  },
  {
   "cell_type": "code",
   "execution_count": null,
   "metadata": {},
   "outputs": [],
   "source": [
    "# Setup: Mount Drive and navigate to project\n",
    "from google.colab import drive\n",
    "drive.mount('/content/drive')\n",
    "\n",
    "import os\n",
    "import subprocess\n",
    "from pathlib import Path\n",
    "\n",
    "os.chdir('/content/drive/MyDrive')\n",
    "repo_url = 'https://github.com/Thabhelo/3d_medical_segemntation.git'\n",
    "repo_dir = '3d_medical_segmentation'\n",
    "\n",
    "if os.path.exists(repo_dir):\n",
    "    print('Repository exists, pulling latest changes...')\n",
    "    os.chdir(repo_dir)\n",
    "    subprocess.run(['git', 'pull'], check=True)\n",
    "else:\n",
    "    print('Cloning repository...')\n",
    "    subprocess.run(['git', 'clone', repo_url, repo_dir], check=True)\n",
    "    os.chdir(repo_dir)\n",
    "\n",
    "print(f'Working directory: {os.getcwd()}')"
   ]
  },
  {
   "cell_type": "code",
   "execution_count": null,
   "metadata": {},
   "outputs": [],
   "source": [
    "# Install dependencies\n",
    "subprocess.run(['pip', 'install', '-q', '--upgrade', 'pip'], check=True)\n",
    "subprocess.run(['pip', 'install', '-q', 'torch==2.3.0', 'torchvision==0.18.0'], check=True)\n",
    "subprocess.run(['pip', 'install', '-q', 'monai[all]==1.3.0'], check=True)\n",
    "subprocess.run(['pip', 'install', '-q', '-r', 'requirements.txt'], check=True)\n",
    "\n",
    "print('Dependencies installed successfully')"
   ]
  },
  {
   "cell_type": "code",
   "execution_count": null,
   "metadata": {},
   "outputs": [],
   "source": [
    "# Verify GPU and datasets\n",
    "import torch\n",
    "\n",
    "if torch.cuda.is_available():\n",
    "    print(f'GPU available: {torch.cuda.get_device_name(0)}')\n",
    "    print(f'CUDA version: {torch.version.cuda}')\n",
    "else:\n",
    "    print('WARNING: No GPU available')\n",
    "\n",
    "# Check datasets\n",
    "datasets_root = Path('/content/drive/MyDrive/datasets')\n",
    "for dataset in ['BraTS', 'MSD']:\n",
    "    dataset_path = datasets_root / dataset\n",
    "    print(f'{dataset}: {\"Found\" if dataset_path.exists() else \"Missing\"}')"
   ]
  },
  {
   "cell_type": "markdown",
   "metadata": {},
   "source": [
    "## SegResNet + BraTS Training"
   ]
  },
  {
   "cell_type": "code",
   "execution_count": null,
   "metadata": {},
   "outputs": [],
   "source": [
    "# Train SegResNet on BraTS dataset\n",
    "subprocess.run([\n",
    "    'python', 'scripts/train_model.py',\n",
    "    '--dataset', 'brats',\n",
    "    '--data_root', '/content/drive/MyDrive/datasets',\n",
    "    '--architecture', 'segresnet',\n",
    "    '--in_channels', '4',\n",
    "    '--out_channels', '4', \n",
    "    '--batch_size', '2',\n",
    "    '--max_epochs', '100',\n",
    "    '--output_dir', 'results/segresnet_brats'\n",
    "], check=True)\n",
    "\n",
    "print('SegResNet + BraTS training completed')"
   ]
  },
  {
   "cell_type": "markdown",
   "metadata": {},
   "source": [
    "## SegResNet + MSD Liver Training"
   ]
  },
  {
   "cell_type": "code",
   "execution_count": null,
   "metadata": {},
   "outputs": [],
   "source": [
    "# Train SegResNet on MSD Liver dataset\n",
    "subprocess.run([\n",
    "    'python', 'scripts/train_model.py',\n",
    "    '--dataset', 'msd_liver',\n",
    "    '--data_root', '/content/drive/MyDrive/datasets',\n",
    "    '--architecture', 'segresnet',\n",
    "    '--in_channels', '1',\n",
    "    '--out_channels', '3',\n",
    "    '--batch_size', '2', \n",
    "    '--max_epochs', '100',\n",
    "    '--output_dir', 'results/segresnet_msd_liver'\n",
    "], check=True)\n",
    "\n",
    "print('SegResNet + MSD Liver training completed')"
   ]
  },
  {
   "cell_type": "markdown",
   "metadata": {},
   "source": [
    "## Training Status Summary"
   ]
  },
  {
   "cell_type": "code",
   "execution_count": null,
   "metadata": {},
   "outputs": [],
   "source": [
    "# Check training results\n",
    "results_dir = Path('results')\n",
    "segresnet_experiments = ['segresnet_brats', 'segresnet_msd_liver']\n",
    "\n",
    "print('SegResNet Training Results:')\n",
    "print('=' * 40)\n",
    "\n",
    "for exp in segresnet_experiments:\n",
    "    exp_dir = results_dir / exp\n",
    "    best_model = exp_dir / 'best.pth'\n",
    "    \n",
    "    if best_model.exists():\n",
    "        print(f'COMPLETED: {exp}')\n",
    "    else:\n",
    "        print(f'NOT FOUND: {exp}')\n",
    "\n",
    "print('\\nSegResNet experiments finished. Ready for TotalSegmentator experiments.')"
   ]
  }
 ],\n",
 \"metadata\": {\n",
  \"kernelspec\": {\n",
   \"display_name\": \"Python 3\",\n",
   \"language\": \"python\",\n",
   \"name\": \"python3\"\n",
  },\n",
  \"language_info\": {\n",
   \"codemirror_mode\": {\n",
    \"name\": \"ipython\",\n",
    \"version\": 3\n",
   },\n",
   \"file_extension\": \".py\",\n",
   \"mimetype\": \"text/x-python\",\n",
   \"name\": \"python\",\n",
   \"nbconvert_exporter\": \"python\",\n",
   \"pygments_lexer\": \"ipython3\",\n",
   \"version\": \"3.8.10\"\n",
  }\n",
 },\n",
 \"nbformat\": 4,\n",
 \"nbformat_minor\": 4\n",
}